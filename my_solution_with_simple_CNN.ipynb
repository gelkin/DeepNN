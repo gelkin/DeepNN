{
 "cells": [
  {
   "cell_type": "code",
   "execution_count": 1,
   "metadata": {},
   "outputs": [],
   "source": [
    "#### Layer Patterns: INPUT -> [[CONV -> RELU]*N -> POOL?]*M -> [FC -> RELU]*K -> FC*"
   ]
  },
  {
   "cell_type": "code",
   "execution_count": 1,
   "metadata": {},
   "outputs": [
    {
     "name": "stderr",
     "output_type": "stream",
     "text": [
      "Using TensorFlow backend.\n"
     ]
    }
   ],
   "source": [
    "import tensorflow as tf\n",
    "import keras\n",
    "from keras.datasets import cifar10\n",
    "from keras.models import Sequential\n",
    "from keras.layers import Dense, Dropout, Activation, Flatten, BatchNormalization\n",
    "from keras.utils import np_utils\n",
    "from keras import callbacks\n",
    "from keras import optimizers, regularizers\n",
    "from keras.layers import Conv2D, MaxPooling2D"
   ]
  },
  {
   "cell_type": "code",
   "execution_count": 2,
   "metadata": {},
   "outputs": [],
   "source": [
    "from keras.models import Sequential\n",
    "from scipy.misc import imread\n",
    "get_ipython().magic('matplotlib inline')\n",
    "import matplotlib.pyplot as plt\n",
    "import numpy as np\n",
    "import keras\n",
    "from keras.layers import Dense\n",
    "import pandas as pd\n",
    "\n",
    "from keras.applications.vgg16 import VGG16\n",
    "from keras.preprocessing import image\n",
    "from keras.applications.vgg16 import preprocess_input\n",
    "import numpy as np\n",
    "from keras.applications.vgg16 import decode_predictions\n",
    "from keras.utils.np_utils import to_categorical\n",
    "\n",
    "from sklearn.preprocessing import LabelEncoder\n",
    "from keras.models import Sequential\n",
    "from keras.optimizers import SGD\n",
    "from keras.layers import Input, Dense, Convolution2D, MaxPooling2D, AveragePooling2D, ZeroPadding2D, Dropout, Flatten, merge, Reshape, Activation\n",
    "\n",
    "from sklearn.metrics import log_loss\n",
    "import os"
   ]
  },
  {
   "cell_type": "code",
   "execution_count": 3,
   "metadata": {},
   "outputs": [],
   "source": [
    "import numpy as np\n",
    "import matplotlib.pyplot as plt\n",
    "from scipy.misc import imread\n",
    "get_ipython().magic('matplotlib inline')\n",
    "import matplotlib as mpl\n",
    "import pandas as pd\n",
    "import os"
   ]
  },
  {
   "cell_type": "code",
   "execution_count": 4,
   "metadata": {},
   "outputs": [],
   "source": [
    "labels_path = os.getcwd() + \"\\\\\" + os.path.join( \"data\", \"labels.csv\", \"\")\n",
    "img_path = os.getcwd() + \"\\\\\" + os.path.join( \"data\", \"train\", \"train\", \"\")"
   ]
  },
  {
   "cell_type": "code",
   "execution_count": 5,
   "metadata": {},
   "outputs": [],
   "source": [
    "train = pd.read_csv(labels_path + \"labels.csv\")"
   ]
  },
  {
   "cell_type": "code",
   "execution_count": 6,
   "metadata": {},
   "outputs": [
    {
     "name": "stdout",
     "output_type": "stream",
     "text": [
      "100 images processed\n",
      "200 images processed\n",
      "300 images processed\n",
      "400 images processed\n",
      "500 images processed\n",
      "600 images processed\n",
      "700 images processed\n",
      "800 images processed\n",
      "900 images processed\n",
      "1000 images processed\n",
      "1100 images processed\n",
      "1200 images processed\n",
      "1300 images processed\n",
      "1400 images processed\n",
      "1500 images processed\n",
      "1600 images processed\n",
      "1700 images processed\n",
      "1800 images processed\n",
      "1900 images processed\n",
      "2000 images processed\n",
      "2100 images processed\n",
      "2200 images processed\n",
      "2300 images processed\n",
      "2400 images processed\n",
      "2500 images processed\n",
      "2600 images processed\n",
      "2700 images processed\n",
      "2800 images processed\n",
      "2900 images processed\n",
      "3000 images processed\n",
      "3100 images processed\n",
      "3200 images processed\n",
      "3300 images processed\n",
      "3400 images processed\n",
      "3500 images processed\n",
      "3600 images processed\n",
      "3700 images processed\n",
      "3800 images processed\n",
      "3900 images processed\n",
      "4000 images processed\n",
      "4100 images processed\n",
      "4200 images processed\n",
      "4300 images processed\n",
      "4400 images processed\n",
      "4500 images processed\n",
      "4600 images processed\n",
      "4700 images processed\n",
      "4800 images processed\n",
      "4900 images processed\n",
      "5000 images processed\n",
      "5100 images processed\n",
      "5200 images processed\n",
      "5300 images processed\n",
      "5400 images processed\n",
      "5500 images processed\n",
      "5600 images processed\n",
      "5700 images processed\n",
      "5800 images processed\n",
      "5900 images processed\n",
      "6000 images processed\n",
      "6100 images processed\n",
      "6200 images processed\n",
      "6300 images processed\n",
      "6400 images processed\n",
      "6500 images processed\n",
      "6600 images processed\n",
      "6700 images processed\n",
      "6800 images processed\n",
      "6900 images processed\n",
      "7000 images processed\n",
      "7100 images processed\n",
      "7200 images processed\n",
      "7300 images processed\n",
      "7400 images processed\n",
      "7500 images processed\n",
      "7600 images processed\n",
      "7700 images processed\n",
      "7800 images processed\n",
      "7900 images processed\n",
      "8000 images processed\n",
      "8100 images processed\n",
      "8200 images processed\n",
      "8300 images processed\n",
      "8400 images processed\n",
      "8500 images processed\n",
      "8600 images processed\n",
      "8700 images processed\n",
      "8800 images processed\n",
      "8900 images processed\n",
      "9000 images processed\n",
      "9100 images processed\n",
      "9200 images processed\n",
      "9300 images processed\n",
      "9400 images processed\n",
      "9500 images processed\n",
      "9600 images processed\n",
      "9700 images processed\n",
      "9800 images processed\n",
      "9900 images processed\n",
      "10000 images processed\n",
      "10100 images processed\n",
      "10200 images processed\n"
     ]
    }
   ],
   "source": [
    "# applying the same procedure with the test dataset\n",
    "train_img = []\n",
    "cnt = 1\n",
    "for row in train.iterrows():\n",
    "    temp_img = image.load_img(img_path + row[1]['id'] + '.jpg', target_size=(224,224))\n",
    "    temp_img = image.img_to_array(temp_img)\n",
    "    train_img.append(temp_img)\n",
    "    if cnt % 100 == 0:\n",
    "        print(\"{} images processed\".format(cnt))\n",
    "    cnt += 1\n",
    "train_img = np.array(train_img) \n",
    "train_img = preprocess_input(train_img)"
   ]
  },
  {
   "cell_type": "code",
   "execution_count": 7,
   "metadata": {},
   "outputs": [],
   "source": [
    "train_y = np.asarray(train['breed'])\n",
    "le = LabelEncoder()\n",
    "train_y = le.fit_transform(train_y)\n",
    "train_y = to_categorical(train_y)\n",
    "train_y = np.array(train_y)"
   ]
  },
  {
   "cell_type": "code",
   "execution_count": 8,
   "metadata": {},
   "outputs": [],
   "source": [
    "from sklearn.model_selection import train_test_split\n",
    "x_train, x_test, y_train, y_test = train_test_split(train_img,train_y,test_size=0.2, random_state=42)"
   ]
  },
  {
   "cell_type": "markdown",
   "metadata": {},
   "source": [
    "### Made by-hands CNN model"
   ]
  },
  {
   "cell_type": "code",
   "execution_count": 9,
   "metadata": {},
   "outputs": [],
   "source": [
    "batch_size = 32\n",
    "num_classes = 120\n",
    "epochs = 10"
   ]
  },
  {
   "cell_type": "code",
   "execution_count": 10,
   "metadata": {},
   "outputs": [],
   "source": [
    "model = Sequential()\n",
    "kernel_size = (1, 1)\n",
    "pool_size = (3, 3)\n",
    "\n",
    "\n",
    "model.add(Conv2D(64, kernel_size, padding='same',\n",
    "                 input_shape=x_train.shape[1:]))\n",
    "model.add(Activation('relu'))\n",
    "model.add(Conv2D(64, kernel_size))\n",
    "model.add(Activation('relu'))\n",
    "model.add(MaxPooling2D(pool_size=pool_size))\n",
    "\n",
    "model.add(Conv2D(128, kernel_size))\n",
    "model.add(Activation('relu'))\n",
    "model.add(Conv2D(128, kernel_size))\n",
    "model.add(Activation('relu'))\n",
    "model.add(MaxPooling2D(pool_size=pool_size))\n",
    "# model.add(Dropout(0.25))\n",
    "\n",
    "model.add(Conv2D(256, kernel_size, padding='same'))\n",
    "model.add(Activation('relu'))\n",
    "model.add(Conv2D(256, kernel_size, padding='same'))\n",
    "model.add(Activation('relu'))\n",
    "# model.add(Conv2D(64, (3, 3)))\n",
    "# model.add(Activation('relu'))\n",
    "model.add(MaxPooling2D(pool_size=pool_size))\n",
    "# model.add(MaxPooling2D(pool_size=pool_size))\n",
    "# model.add(Dropout(0.25))\n",
    "\n",
    "model.add(Flatten())\n",
    "model.add(Dense(4096))\n",
    "model.add(Activation('relu'))\n",
    "model.add(Dense(1000))\n",
    "model.add(Activation('relu'))\n",
    "# model.add(Dropout(0.5))\n",
    "model.add(Dense(num_classes))\n",
    "model.add(Activation('softmax'))"
   ]
  },
  {
   "cell_type": "code",
   "execution_count": 11,
   "metadata": {},
   "outputs": [
    {
     "name": "stdout",
     "output_type": "stream",
     "text": [
      "_________________________________________________________________\n",
      "Layer (type)                 Output Shape              Param #   \n",
      "=================================================================\n",
      "conv2d_1 (Conv2D)            (None, 224, 224, 64)      256       \n",
      "_________________________________________________________________\n",
      "activation_1 (Activation)    (None, 224, 224, 64)      0         \n",
      "_________________________________________________________________\n",
      "conv2d_2 (Conv2D)            (None, 224, 224, 64)      4160      \n",
      "_________________________________________________________________\n",
      "activation_2 (Activation)    (None, 224, 224, 64)      0         \n",
      "_________________________________________________________________\n",
      "max_pooling2d_1 (MaxPooling2 (None, 74, 74, 64)        0         \n",
      "_________________________________________________________________\n",
      "conv2d_3 (Conv2D)            (None, 74, 74, 128)       8320      \n",
      "_________________________________________________________________\n",
      "activation_3 (Activation)    (None, 74, 74, 128)       0         \n",
      "_________________________________________________________________\n",
      "conv2d_4 (Conv2D)            (None, 74, 74, 128)       16512     \n",
      "_________________________________________________________________\n",
      "activation_4 (Activation)    (None, 74, 74, 128)       0         \n",
      "_________________________________________________________________\n",
      "max_pooling2d_2 (MaxPooling2 (None, 24, 24, 128)       0         \n",
      "_________________________________________________________________\n",
      "conv2d_5 (Conv2D)            (None, 24, 24, 256)       33024     \n",
      "_________________________________________________________________\n",
      "activation_5 (Activation)    (None, 24, 24, 256)       0         \n",
      "_________________________________________________________________\n",
      "conv2d_6 (Conv2D)            (None, 24, 24, 256)       65792     \n",
      "_________________________________________________________________\n",
      "activation_6 (Activation)    (None, 24, 24, 256)       0         \n",
      "_________________________________________________________________\n",
      "max_pooling2d_3 (MaxPooling2 (None, 8, 8, 256)         0         \n",
      "_________________________________________________________________\n",
      "flatten_1 (Flatten)          (None, 16384)             0         \n",
      "_________________________________________________________________\n",
      "dense_1 (Dense)              (None, 4096)              67112960  \n",
      "_________________________________________________________________\n",
      "activation_7 (Activation)    (None, 4096)              0         \n",
      "_________________________________________________________________\n",
      "dense_2 (Dense)              (None, 1000)              4097000   \n",
      "_________________________________________________________________\n",
      "activation_8 (Activation)    (None, 1000)              0         \n",
      "_________________________________________________________________\n",
      "dense_3 (Dense)              (None, 120)               120120    \n",
      "_________________________________________________________________\n",
      "activation_9 (Activation)    (None, 120)               0         \n",
      "=================================================================\n",
      "Total params: 71,458,144\n",
      "Trainable params: 71,458,144\n",
      "Non-trainable params: 0\n",
      "_________________________________________________________________\n"
     ]
    }
   ],
   "source": [
    "model.summary()"
   ]
  },
  {
   "cell_type": "code",
   "execution_count": 12,
   "metadata": {},
   "outputs": [],
   "source": [
    "# initiate RMSprop optimizer\n",
    "opt = keras.optimizers.rmsprop(lr=0.0001, decay=1e-6)\n",
    "\n",
    "# Let's train the model using RMSprop\n",
    "model.compile(loss='categorical_crossentropy',\n",
    "              optimizer=opt,\n",
    "              metrics=['accuracy'])"
   ]
  },
  {
   "cell_type": "code",
   "execution_count": null,
   "metadata": {},
   "outputs": [
    {
     "name": "stdout",
     "output_type": "stream",
     "text": [
      "Train on 8177 samples, validate on 2045 samples\n",
      "Epoch 1/10\n",
      "8177/8177 [==============================] - 147s 18ms/step - loss: 5.5314 - acc: 0.0176 - val_loss: 4.5878 - val_acc: 0.0318\n",
      "Epoch 2/10\n",
      "8177/8177 [==============================] - 137s 17ms/step - loss: 4.1446 - acc: 0.0894 - val_loss: 4.3859 - val_acc: 0.0533\n",
      "Epoch 3/10\n",
      "8177/8177 [==============================] - 136s 17ms/step - loss: 3.2385 - acc: 0.2390 - val_loss: 4.6190 - val_acc: 0.0641\n",
      "Epoch 4/10\n",
      "8177/8177 [==============================] - 137s 17ms/step - loss: 2.0033 - acc: 0.5052 - val_loss: 5.1369 - val_acc: 0.0675\n",
      "Epoch 5/10\n",
      "8177/8177 [==============================] - 137s 17ms/step - loss: 0.8885 - acc: 0.7895 - val_loss: 6.1190 - val_acc: 0.0626\n",
      "Epoch 6/10\n",
      "8177/8177 [==============================] - 122s 15ms/step - loss: 0.3264 - acc: 0.9267 - val_loss: 6.1116 - val_acc: 0.0914\n",
      "Epoch 7/10\n",
      "8177/8177 [==============================] - 119s 14ms/step - loss: 0.1618 - acc: 0.9634 - val_loss: 6.9659 - val_acc: 0.0709\n",
      "Epoch 8/10\n",
      "8177/8177 [==============================] - 118s 14ms/step - loss: 0.1073 - acc: 0.9774 - val_loss: 6.6242 - val_acc: 0.0914\n",
      "Epoch 9/10\n",
      "8177/8177 [==============================] - 119s 15ms/step - loss: 0.0865 - acc: 0.9814 - val_loss: 7.0751 - val_acc: 0.0861\n",
      "Epoch 10/10\n",
      "7584/8177 [==========================>...] - ETA: 8s - loss: 0.0686 - acc: 0.9847"
     ]
    }
   ],
   "source": [
    "# Start Fine-tuning\n",
    "model.fit(x_train, y_train, batch_size=batch_size, epochs=epochs, shuffle=True, verbose=1, validation_data=(x_test, y_test))"
   ]
  },
  {
   "cell_type": "code",
   "execution_count": null,
   "metadata": {},
   "outputs": [],
   "source": [
    " "
   ]
  }
 ],
 "metadata": {
  "kernelspec": {
   "display_name": "Python 3",
   "language": "python",
   "name": "python3"
  },
  "language_info": {
   "codemirror_mode": {
    "name": "ipython",
    "version": 3
   },
   "file_extension": ".py",
   "mimetype": "text/x-python",
   "name": "python",
   "nbconvert_exporter": "python",
   "pygments_lexer": "ipython3",
   "version": "3.5.4"
  }
 },
 "nbformat": 4,
 "nbformat_minor": 2
}
