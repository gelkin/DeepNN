{
 "cells": [
  {
   "cell_type": "markdown",
   "metadata": {},
   "source": [
    "Statistics\n",
    "====="
   ]
  },
  {
   "cell_type": "markdown",
   "metadata": {},
   "source": [
    "## VGG16 without last layers with following additional layers:"
   ]
  },
  {
   "cell_type": "markdown",
   "metadata": {},
   "source": [
    "> **Note:** see __pretrained_model_vgg16_without_last_layer.ipynb__ to find code behind this model"
   ]
  },
  {
   "cell_type": "markdown",
   "metadata": {},
   "source": [
    "#### Best result after 60 epochs: acc = 0.4"
   ]
  },
  {
   "cell_type": "code",
   "execution_count": 150,
   "metadata": {
    "collapsed": false
   },
   "outputs": [
    {
     "name": "stdout",
     "output_type": "stream",
     "text": [
      "Train on 6540 samples, validate on 1635 samples\n",
      "Epoch 1/20\n",
      "6540/6540 [==============================] - 5s 772us/step - loss: 1.7114 - acc: 0.4839 - val_loss: 2.2420 - val_acc: 0.3780\n",
      "Epoch 2/20\n",
      "6540/6540 [==============================] - 5s 763us/step - loss: 1.6811 - acc: 0.4847 - val_loss: 2.3007 - val_acc: 0.3755\n",
      "Epoch 3/20\n",
      "6540/6540 [==============================] - 5s 767us/step - loss: 1.6432 - acc: 0.4940 - val_loss: 2.2949 - val_acc: 0.3774\n",
      "Epoch 4/20\n",
      "6540/6540 [==============================] - 5s 770us/step - loss: 1.6492 - acc: 0.5006 - val_loss: 2.2707 - val_acc: 0.3749\n",
      "Epoch 5/20\n",
      "6540/6540 [==============================] - 5s 766us/step - loss: 1.6640 - acc: 0.4950 - val_loss: 2.3192 - val_acc: 0.3755\n",
      "Epoch 6/20\n",
      "6540/6540 [==============================] - 5s 771us/step - loss: 1.6912 - acc: 0.4809 - val_loss: 2.2648 - val_acc: 0.3780\n",
      "Epoch 7/20\n",
      "6540/6540 [==============================] - 5s 769us/step - loss: 1.6327 - acc: 0.5008 - val_loss: 2.3236 - val_acc: 0.3688\n",
      "Epoch 8/20\n",
      "6540/6540 [==============================] - 5s 774us/step - loss: 1.6202 - acc: 0.5112 - val_loss: 2.2873 - val_acc: 0.3872\n",
      "Epoch 9/20\n",
      "6540/6540 [==============================] - 5s 774us/step - loss: 1.6149 - acc: 0.5102 - val_loss: 2.3100 - val_acc: 0.3823\n",
      "Epoch 10/20\n",
      "6540/6540 [==============================] - 5s 773us/step - loss: 1.5943 - acc: 0.5003 - val_loss: 2.2557 - val_acc: 0.4116\n",
      "Epoch 11/20\n",
      "6540/6540 [==============================] - 5s 770us/step - loss: 1.6132 - acc: 0.5098 - val_loss: 2.3249 - val_acc: 0.3725\n",
      "Epoch 12/20\n",
      "6540/6540 [==============================] - 5s 776us/step - loss: 1.6189 - acc: 0.5073 - val_loss: 2.3197 - val_acc: 0.3835\n",
      "Epoch 13/20\n",
      "6540/6540 [==============================] - 5s 768us/step - loss: 1.6544 - acc: 0.4899 - val_loss: 2.3770 - val_acc: 0.3486\n",
      "Epoch 14/20\n",
      "6540/6540 [==============================] - 5s 772us/step - loss: 1.6283 - acc: 0.5043 - val_loss: 2.2897 - val_acc: 0.3878\n",
      "Epoch 15/20\n",
      "6540/6540 [==============================] - 5s 774us/step - loss: 1.6014 - acc: 0.5196 - val_loss: 2.2759 - val_acc: 0.3878\n",
      "Epoch 16/20\n",
      "6540/6540 [==============================] - 5s 773us/step - loss: 1.5913 - acc: 0.5209 - val_loss: 2.2682 - val_acc: 0.3939\n",
      "Epoch 17/20\n",
      "6540/6540 [==============================] - 5s 775us/step - loss: 1.5633 - acc: 0.5194 - val_loss: 2.2792 - val_acc: 0.3957\n",
      "Epoch 18/20\n",
      "6540/6540 [==============================] - 5s 773us/step - loss: 1.5855 - acc: 0.5113 - val_loss: 2.2503 - val_acc: 0.3927\n",
      "Epoch 19/20\n",
      "6540/6540 [==============================] - 5s 769us/step - loss: 1.5954 - acc: 0.5145 - val_loss: 2.2975 - val_acc: 0.3841\n",
      "Epoch 20/20\n",
      "6540/6540 [==============================] - 5s 772us/step - loss: 1.5838 - acc: 0.5193 - val_loss: 2.2633 - val_acc: 0.3829\n"
     ]
    },
    {
     "data": {
      "text/plain": [
       "<keras.callbacks.History at 0x2b88cb40f28>"
      ]
     },
     "execution_count": 150,
     "metadata": {},
     "output_type": "execute_result"
    }
   ],
   "source": [
    "# fitting the model\n",
    "model.fit(X_train, Y_train, epochs=20, batch_size=128,validation_data=(X_valid,Y_valid))"
   ]
  },
  {
   "cell_type": "markdown",
   "metadata": {},
   "source": []
  },
  {
   "cell_type": "markdown",
   "metadata": {},
   "source": [
    "#### Experiment:\n",
    "Problem: try to understand why NN doesn't work well unless there are following dropouts 0.3, 0.4, 0.2 \n",
    "Point: let's try to use different probs on the first layer (0.3 -> 0.5)\n",
    "TODO: didn't manage to run it, need to do it later, started running pretrained networks w/o several last layers"
   ]
  },
  {
   "cell_type": "markdown",
   "metadata": {},
   "source": [
    "#### Without several last layers\n",
    "For training set ~8000, 20 epochs: "
   ]
  },
  {
   "cell_type": "code",
   "execution_count": 24,
   "metadata": {
    "collapsed": false,
    "scrolled": false
   },
   "outputs": [
    {
     "name": "stdout",
     "output_type": "stream",
     "text": [
      "Train on 6539 samples, validate on 1635 samples\n",
      "Epoch 1/10\n",
      "6539/6539 [==============================] - 148s 23ms/step - loss: 4.6568 - acc: 0.3221 - val_loss: 4.6772 - val_acc: 0.2917\n",
      "Epoch 2/10\n",
      "6539/6539 [==============================] - 147s 22ms/step - loss: 4.6440 - acc: 0.3326 - val_loss: 4.6641 - val_acc: 0.3052\n",
      "Epoch 3/10\n",
      "6539/6539 [==============================] - 150s 23ms/step - loss: 4.6305 - acc: 0.3458 - val_loss: 4.6554 - val_acc: 0.3021\n",
      "Epoch 4/10\n",
      "6539/6539 [==============================] - 154s 24ms/step - loss: 4.6182 - acc: 0.3471 - val_loss: 4.6435 - val_acc: 0.3101\n",
      "Epoch 5/10\n",
      "6539/6539 [==============================] - 153s 23ms/step - loss: 4.6043 - acc: 0.3540 - val_loss: 4.6303 - val_acc: 0.3358\n",
      "Epoch 6/10\n",
      "6539/6539 [==============================] - 149s 23ms/step - loss: 4.5906 - acc: 0.3693 - val_loss: 4.6206 - val_acc: 0.3358\n",
      "Epoch 7/10\n",
      "6539/6539 [==============================] - 419s 64ms/step - loss: 4.5776 - acc: 0.3800 - val_loss: 4.6113 - val_acc: 0.3358\n",
      "Epoch 8/10\n",
      "6539/6539 [==============================] - 113s 17ms/step - loss: 4.5632 - acc: 0.3871 - val_loss: 4.6020 - val_acc: 0.3462\n",
      "Epoch 9/10\n",
      "6539/6539 [==============================] - 116s 18ms/step - loss: 4.5505 - acc: 0.3949 - val_loss: 4.5923 - val_acc: 0.3480\n",
      "Epoch 10/10\n",
      "6539/6539 [==============================] - 115s 18ms/step - loss: 4.5367 - acc: 0.4039 - val_loss: 4.5837 - val_acc: 0.3535\n"
     ]
    },
    {
     "data": {
      "text/plain": [
       "<keras.callbacks.History at 0x1d24b85cc88>"
      ]
     },
     "execution_count": 24,
     "metadata": {},
     "output_type": "execute_result"
    }
   ],
   "source": [
    "# Start Fine-tuning\n",
    "model.fit(X_train, Y_train,batch_size=batch_size,epochs=nb_epoch,shuffle=True,verbose=1,validation_data=(X_valid, Y_valid))"
   ]
  },
  {
   "cell_type": "code",
   "execution_count": 2,
   "metadata": {
    "collapsed": false,
    "scrolled": true
   },
   "outputs": [
    {
     "ename": "NameError",
     "evalue": "name 'model' is not defined",
     "output_type": "error",
     "traceback": [
      "\u001b[1;31m---------------------------------------------------------------------------\u001b[0m",
      "\u001b[1;31mNameError\u001b[0m                                 Traceback (most recent call last)",
      "\u001b[1;32m<ipython-input-2-e1022b15b1d6>\u001b[0m in \u001b[0;36m<module>\u001b[1;34m()\u001b[0m\n\u001b[0;32m      1\u001b[0m \u001b[1;31m# Start Fine-tuning\u001b[0m\u001b[1;33m\u001b[0m\u001b[1;33m\u001b[0m\u001b[0m\n\u001b[1;32m----> 2\u001b[1;33m \u001b[0mmodel\u001b[0m\u001b[1;33m.\u001b[0m\u001b[0mfit\u001b[0m\u001b[1;33m(\u001b[0m\u001b[0mX_train\u001b[0m\u001b[1;33m,\u001b[0m \u001b[0mY_train\u001b[0m\u001b[1;33m,\u001b[0m\u001b[0mbatch_size\u001b[0m\u001b[1;33m=\u001b[0m\u001b[0mbatch_size\u001b[0m\u001b[1;33m,\u001b[0m\u001b[0mepochs\u001b[0m\u001b[1;33m=\u001b[0m\u001b[0mnb_epoch\u001b[0m\u001b[1;33m,\u001b[0m\u001b[0mshuffle\u001b[0m\u001b[1;33m=\u001b[0m\u001b[1;32mTrue\u001b[0m\u001b[1;33m,\u001b[0m\u001b[0mverbose\u001b[0m\u001b[1;33m=\u001b[0m\u001b[1;36m1\u001b[0m\u001b[1;33m,\u001b[0m\u001b[0mvalidation_data\u001b[0m\u001b[1;33m=\u001b[0m\u001b[1;33m(\u001b[0m\u001b[0mX_valid\u001b[0m\u001b[1;33m,\u001b[0m \u001b[0mY_valid\u001b[0m\u001b[1;33m)\u001b[0m\u001b[1;33m)\u001b[0m\u001b[1;33m\u001b[0m\u001b[0m\n\u001b[0m",
      "\u001b[1;31mNameError\u001b[0m: name 'model' is not defined"
     ]
    }
   ],
   "source": [
    "# Start Fine-tuning\n",
    "model.fit(X_train, Y_train,batch_size=batch_size,epochs=nb_epoch,shuffle=True,verbose=1,validation_data=(X_valid, Y_valid))"
   ]
  },
  {
   "cell_type": "markdown",
   "metadata": {},
   "source": [
    "#### Without several last layers\n",
    "For training set 10000, 20 epochs: "
   ]
  },
  {
   "cell_type": "code",
   "execution_count": 46,
   "metadata": {
    "collapsed": false
   },
   "outputs": [
    {
     "name": "stdout",
     "output_type": "stream",
     "text": [
      "Train on 8177 samples, validate on 2045 samples\n",
      "Epoch 1/10\n",
      "8177/8177 [==============================] - 172s 21ms/step - loss: 4.7779 - acc: 0.0353 - val_loss: 4.7672 - val_acc: 0.0826\n",
      "Epoch 2/10\n",
      "8177/8177 [==============================] - 149s 18ms/step - loss: 4.7569 - acc: 0.1419 - val_loss: 4.7520 - val_acc: 0.1658\n",
      "Epoch 3/10\n",
      "8177/8177 [==============================] - 148s 18ms/step - loss: 4.7415 - acc: 0.2059 - val_loss: 4.7398 - val_acc: 0.2166\n",
      "Epoch 4/10\n",
      "8177/8177 [==============================] - 149s 18ms/step - loss: 4.7268 - acc: 0.2637 - val_loss: 4.7260 - val_acc: 0.2724\n",
      "Epoch 5/10\n",
      "8177/8177 [==============================] - 148s 18ms/step - loss: 4.7112 - acc: 0.3233 - val_loss: 4.7130 - val_acc: 0.3007\n",
      "Epoch 6/10\n",
      "8177/8177 [==============================] - 148s 18ms/step - loss: 4.6960 - acc: 0.3477 - val_loss: 4.7011 - val_acc: 0.3178\n",
      "Epoch 7/10\n",
      "8177/8177 [==============================] - 148s 18ms/step - loss: 4.6806 - acc: 0.3686 - val_loss: 4.6881 - val_acc: 0.3355\n",
      "Epoch 8/10\n",
      "8177/8177 [==============================] - 148s 18ms/step - loss: 4.6647 - acc: 0.3853 - val_loss: 4.6713 - val_acc: 0.3467\n",
      "Epoch 9/10\n",
      "8177/8177 [==============================] - 148s 18ms/step - loss: 4.6485 - acc: 0.4019 - val_loss: 4.6590 - val_acc: 0.3614\n",
      "Epoch 10/10\n",
      "8177/8177 [==============================] - 148s 18ms/step - loss: 4.6324 - acc: 0.4113 - val_loss: 4.6440 - val_acc: 0.3682\n"
     ]
    },
    {
     "data": {
      "text/plain": [
       "<keras.callbacks.History at 0x1d24cf376a0>"
      ]
     },
     "execution_count": 46,
     "metadata": {},
     "output_type": "execute_result"
    }
   ],
   "source": [
    "# Start Fine-tuning\n",
    "model.fit(X_train, Y_train,batch_size=batch_size,epochs=nb_epoch,shuffle=True,verbose=1,validation_data=(X_valid, Y_valid))"
   ]
  },
  {
   "cell_type": "markdown",
   "metadata": {},
   "source": [
    "#### After 20 epochs:"
   ]
  },
  {
   "cell_type": "code",
   "execution_count": 48,
   "metadata": {
    "collapsed": false,
    "scrolled": true
   },
   "outputs": [
    {
     "name": "stdout",
     "output_type": "stream",
     "text": [
      "Train on 8177 samples, validate on 2045 samples\n",
      "Epoch 1/10\n",
      "8177/8177 [==============================] - 188s 23ms/step - loss: 4.6160 - acc: 0.4138 - val_loss: 4.6296 - val_acc: 0.3731\n",
      "Epoch 2/10\n",
      "8177/8177 [==============================] - 169s 21ms/step - loss: 4.5979 - acc: 0.4222 - val_loss: 4.6139 - val_acc: 0.3907\n",
      "Epoch 3/10\n",
      "8177/8177 [==============================] - 148s 18ms/step - loss: 4.5805 - acc: 0.4322 - val_loss: 4.6010 - val_acc: 0.3883\n",
      "Epoch 4/10\n",
      "8177/8177 [==============================] - 148s 18ms/step - loss: 4.5632 - acc: 0.4431 - val_loss: 4.5868 - val_acc: 0.3917\n",
      "Epoch 5/10\n",
      "8177/8177 [==============================] - 148s 18ms/step - loss: 4.5461 - acc: 0.4494 - val_loss: 4.5710 - val_acc: 0.4137\n",
      "Epoch 6/10\n",
      "8177/8177 [==============================] - 148s 18ms/step - loss: 4.5282 - acc: 0.4670 - val_loss: 4.5629 - val_acc: 0.4064\n",
      "Epoch 7/10\n",
      "8177/8177 [==============================] - 148s 18ms/step - loss: 4.5088 - acc: 0.4767 - val_loss: 4.5408 - val_acc: 0.4176\n",
      "Epoch 8/10\n",
      "8177/8177 [==============================] - 148s 18ms/step - loss: 4.4917 - acc: 0.4788 - val_loss: 4.5316 - val_acc: 0.4112\n",
      "Epoch 9/10\n",
      "8177/8177 [==============================] - 148s 18ms/step - loss: 4.4757 - acc: 0.4809 - val_loss: 4.5156 - val_acc: 0.4166\n",
      "Epoch 10/10\n",
      "8177/8177 [==============================] - 148s 18ms/step - loss: 4.4558 - acc: 0.4880 - val_loss: 4.5049 - val_acc: 0.4108\n"
     ]
    },
    {
     "data": {
      "text/plain": [
       "<keras.callbacks.History at 0x1d24cf37208>"
      ]
     },
     "execution_count": 48,
     "metadata": {},
     "output_type": "execute_result"
    }
   ],
   "source": [
    "# Start Fine-tuning\n",
    "model.fit(X_train, Y_train,batch_size=batch_size,epochs=nb_epoch,shuffle=True,verbose=1,validation_data=(X_valid, Y_valid))"
   ]
  },
  {
   "cell_type": "markdown",
   "metadata": {},
   "source": [
    "### VGG16 with 15 layers non-trained"
   ]
  },
  {
   "cell_type": "markdown",
   "metadata": {},
   "source": [
    "### Let's try model with 2 more conv layers, that is leaving 8 + 3 + 4 = 15 layers"
   ]
  },
  {
   "cell_type": "code",
   "execution_count": 24,
   "metadata": {
    "collapsed": false,
    "scrolled": true
   },
   "outputs": [
    {
     "name": "stdout",
     "output_type": "stream",
     "text": [
      "_________________________________________________________________\n",
      "Layer (type)                 Output Shape              Param #   \n",
      "=================================================================\n",
      "input_1 (InputLayer)         (None, 224, 224, 3)       0         \n",
      "_________________________________________________________________\n",
      "block1_conv1 (Conv2D)        (None, 224, 224, 64)      1792      \n",
      "_________________________________________________________________\n",
      "block1_conv2 (Conv2D)        (None, 224, 224, 64)      36928     \n",
      "_________________________________________________________________\n",
      "block1_pool (MaxPooling2D)   (None, 112, 112, 64)      0         \n",
      "_________________________________________________________________\n",
      "block2_conv1 (Conv2D)        (None, 112, 112, 128)     73856     \n",
      "_________________________________________________________________\n",
      "block2_conv2 (Conv2D)        (None, 112, 112, 128)     147584    \n",
      "_________________________________________________________________\n",
      "block2_pool (MaxPooling2D)   (None, 56, 56, 128)       0         \n",
      "_________________________________________________________________\n",
      "block3_conv1 (Conv2D)        (None, 56, 56, 256)       295168    \n",
      "_________________________________________________________________\n",
      "block3_conv2 (Conv2D)        (None, 56, 56, 256)       590080    \n",
      "_________________________________________________________________\n",
      "block3_conv3 (Conv2D)        (None, 56, 56, 256)       590080    \n",
      "_________________________________________________________________\n",
      "block3_pool (MaxPooling2D)   (None, 28, 28, 256)       0         \n",
      "_________________________________________________________________\n",
      "block4_conv1 (Conv2D)        (None, 28, 28, 512)       1180160   \n",
      "_________________________________________________________________\n",
      "block4_conv2 (Conv2D)        (None, 28, 28, 512)       2359808   \n",
      "_________________________________________________________________\n",
      "block4_conv3 (Conv2D)        (None, 28, 28, 512)       2359808   \n",
      "_________________________________________________________________\n",
      "block4_pool (MaxPooling2D)   (None, 14, 14, 512)       0         \n",
      "_________________________________________________________________\n",
      "block5_conv1 (Conv2D)        (None, 14, 14, 512)       2359808   \n",
      "_________________________________________________________________\n",
      "block5_conv2 (Conv2D)        (None, 14, 14, 512)       2359808   \n",
      "_________________________________________________________________\n",
      "block5_conv3 (Conv2D)        (None, 14, 14, 512)       2359808   \n",
      "_________________________________________________________________\n",
      "block5_pool (MaxPooling2D)   (None, 7, 7, 512)         0         \n",
      "_________________________________________________________________\n",
      "flatten (Flatten)            (None, 25088)             0         \n",
      "_________________________________________________________________\n",
      "fc1 (Dense)                  (None, 4096)              102764544 \n",
      "_________________________________________________________________\n",
      "fc2 (Dense)                  (None, 4096)              16781312  \n",
      "_________________________________________________________________\n",
      "predictions (Dense)          (None, 1000)              4097000   \n",
      "_________________________________________________________________\n",
      "dense_1 (Dense)              (None, 120)               120120    \n",
      "=================================================================\n",
      "Total params: 138,477,664\n",
      "Trainable params: 130,842,400\n",
      "Non-trainable params: 7,635,264\n",
      "_________________________________________________________________\n"
     ]
    }
   ],
   "source": [
    "# Load our model\n",
    "model_15_pretrained_layers = vgg16_model(img_rows, img_cols, channel, num_classes, num_layers_to_keep=15)\n",
    "model_15_pretrained_layers.summary()"
   ]
  },
  {
   "cell_type": "code",
   "execution_count": 27,
   "metadata": {
    "collapsed": false
   },
   "outputs": [
    {
     "name": "stdout",
     "output_type": "stream",
     "text": [
      "Train on 8177 samples, validate on 2045 samples\n",
      "Epoch 1/10\n",
      "8177/8177 [==============================] - 112s 14ms/step - loss: 4.7829 - acc: 0.0212 - val_loss: 4.7729 - val_acc: 0.0489\n",
      "Epoch 2/10\n",
      "8177/8177 [==============================] - 102s 12ms/step - loss: 4.7640 - acc: 0.0805 - val_loss: 4.7585 - val_acc: 0.1086\n",
      "Epoch 3/10\n",
      "8177/8177 [==============================] - 101s 12ms/step - loss: 4.7492 - acc: 0.1479 - val_loss: 4.7466 - val_acc: 0.1692\n",
      "Epoch 4/10\n",
      "8177/8177 [==============================] - 101s 12ms/step - loss: 4.7348 - acc: 0.1924 - val_loss: 4.7352 - val_acc: 0.2083\n",
      "Epoch 5/10\n",
      "8177/8177 [==============================] - 100s 12ms/step - loss: 4.7211 - acc: 0.2555 - val_loss: 4.7226 - val_acc: 0.2543\n",
      "Epoch 6/10\n",
      "8177/8177 [==============================] - 101s 12ms/step - loss: 4.7068 - acc: 0.2819 - val_loss: 4.7105 - val_acc: 0.2733\n",
      "Epoch 7/10\n",
      "8177/8177 [==============================] - 111s 14ms/step - loss: 4.6924 - acc: 0.3050 - val_loss: 4.6981 - val_acc: 0.2807\n",
      "Epoch 8/10\n",
      "8177/8177 [==============================] - 126s 15ms/step - loss: 4.6776 - acc: 0.3242 - val_loss: 4.6864 - val_acc: 0.2895\n",
      "Epoch 9/10\n",
      "8177/8177 [==============================] - 127s 16ms/step - loss: 4.6628 - acc: 0.3414 - val_loss: 4.6740 - val_acc: 0.3139\n",
      "Epoch 10/10\n",
      "8177/8177 [==============================] - 125s 15ms/step - loss: 4.6477 - acc: 0.3600 - val_loss: 4.6619 - val_acc: 0.3125\n"
     ]
    },
    {
     "data": {
      "text/plain": [
       "<keras.callbacks.History at 0x1deb901b940>"
      ]
     },
     "execution_count": 27,
     "metadata": {},
     "output_type": "execute_result"
    }
   ],
   "source": [
    "# Start Fine-tuning\n",
    "model_15_pretrained_layers.fit(X_train, Y_train,batch_size=batch_size,epochs=nb_epoch,\n",
    "                               shuffle=True,verbose=1,validation_data=(X_valid, Y_valid))"
   ]
  },
  {
   "cell_type": "markdown",
   "metadata": {},
   "source": [
    "### Training on simple model:"
   ]
  },
  {
   "cell_type": "code",
   "execution_count": 10,
   "metadata": {
    "collapsed": true
   },
   "outputs": [],
   "source": [
    "model = Sequential()\n",
    "kernel_size = (1, 1)\n",
    "pool_size = (3, 3)\n",
    "\n",
    "\n",
    "model.add(Conv2D(64, kernel_size, padding='same',\n",
    "                 input_shape=x_train.shape[1:]))\n",
    "model.add(Activation('relu'))\n",
    "model.add(Conv2D(64, kernel_size))\n",
    "model.add(Activation('relu'))\n",
    "model.add(MaxPooling2D(pool_size=pool_size))\n",
    "\n",
    "model.add(Conv2D(128, kernel_size))\n",
    "model.add(Activation('relu'))\n",
    "model.add(Conv2D(128, kernel_size))\n",
    "model.add(Activation('relu'))\n",
    "model.add(MaxPooling2D(pool_size=pool_size))\n",
    "# model.add(Dropout(0.25))\n",
    "\n",
    "model.add(Conv2D(256, kernel_size, padding='same'))\n",
    "model.add(Activation('relu'))\n",
    "model.add(Conv2D(256, kernel_size, padding='same'))\n",
    "model.add(Activation('relu'))\n",
    "# model.add(Conv2D(64, (3, 3)))\n",
    "# model.add(Activation('relu'))\n",
    "model.add(MaxPooling2D(pool_size=pool_size))\n",
    "# model.add(MaxPooling2D(pool_size=pool_size))\n",
    "# model.add(Dropout(0.25))\n",
    "\n",
    "model.add(Flatten())\n",
    "model.add(Dense(4096))\n",
    "model.add(Activation('relu'))\n",
    "model.add(Dense(1000))\n",
    "model.add(Activation('relu'))\n",
    "# model.add(Dropout(0.5))\n",
    "model.add(Dense(num_classes))\n",
    "model.add(Activation('softmax'))"
   ]
  },
  {
   "cell_type": "code",
   "execution_count": 11,
   "metadata": {
    "collapsed": false,
    "scrolled": true
   },
   "outputs": [
    {
     "name": "stdout",
     "output_type": "stream",
     "text": [
      "_________________________________________________________________\n",
      "Layer (type)                 Output Shape              Param #   \n",
      "=================================================================\n",
      "conv2d_1 (Conv2D)            (None, 224, 224, 64)      256       \n",
      "_________________________________________________________________\n",
      "activation_1 (Activation)    (None, 224, 224, 64)      0         \n",
      "_________________________________________________________________\n",
      "conv2d_2 (Conv2D)            (None, 224, 224, 64)      4160      \n",
      "_________________________________________________________________\n",
      "activation_2 (Activation)    (None, 224, 224, 64)      0         \n",
      "_________________________________________________________________\n",
      "max_pooling2d_1 (MaxPooling2 (None, 74, 74, 64)        0         \n",
      "_________________________________________________________________\n",
      "conv2d_3 (Conv2D)            (None, 74, 74, 128)       8320      \n",
      "_________________________________________________________________\n",
      "activation_3 (Activation)    (None, 74, 74, 128)       0         \n",
      "_________________________________________________________________\n",
      "conv2d_4 (Conv2D)            (None, 74, 74, 128)       16512     \n",
      "_________________________________________________________________\n",
      "activation_4 (Activation)    (None, 74, 74, 128)       0         \n",
      "_________________________________________________________________\n",
      "max_pooling2d_2 (MaxPooling2 (None, 24, 24, 128)       0         \n",
      "_________________________________________________________________\n",
      "conv2d_5 (Conv2D)            (None, 24, 24, 256)       33024     \n",
      "_________________________________________________________________\n",
      "activation_5 (Activation)    (None, 24, 24, 256)       0         \n",
      "_________________________________________________________________\n",
      "conv2d_6 (Conv2D)            (None, 24, 24, 256)       65792     \n",
      "_________________________________________________________________\n",
      "activation_6 (Activation)    (None, 24, 24, 256)       0         \n",
      "_________________________________________________________________\n",
      "max_pooling2d_3 (MaxPooling2 (None, 8, 8, 256)         0         \n",
      "_________________________________________________________________\n",
      "flatten_1 (Flatten)          (None, 16384)             0         \n",
      "_________________________________________________________________\n",
      "dense_1 (Dense)              (None, 4096)              67112960  \n",
      "_________________________________________________________________\n",
      "activation_7 (Activation)    (None, 4096)              0         \n",
      "_________________________________________________________________\n",
      "dense_2 (Dense)              (None, 1000)              4097000   \n",
      "_________________________________________________________________\n",
      "activation_8 (Activation)    (None, 1000)              0         \n",
      "_________________________________________________________________\n",
      "dense_3 (Dense)              (None, 120)               120120    \n",
      "_________________________________________________________________\n",
      "activation_9 (Activation)    (None, 120)               0         \n",
      "=================================================================\n",
      "Total params: 71,458,144\n",
      "Trainable params: 71,458,144\n",
      "Non-trainable params: 0\n",
      "_________________________________________________________________\n"
     ]
    }
   ],
   "source": [
    "model.summary()"
   ]
  },
  {
   "cell_type": "code",
   "execution_count": 12,
   "metadata": {
    "collapsed": true
   },
   "outputs": [],
   "source": [
    "# initiate RMSprop optimizer\n",
    "opt = keras.optimizers.rmsprop(lr=0.0001, decay=1e-6)\n",
    "\n",
    "# Let's train the model using RMSprop\n",
    "model.compile(loss='categorical_crossentropy',\n",
    "              optimizer=opt,\n",
    "              metrics=['accuracy'])"
   ]
  },
  {
   "cell_type": "code",
   "execution_count": 13,
   "metadata": {
    "collapsed": false
   },
   "outputs": [
    {
     "name": "stdout",
     "output_type": "stream",
     "text": [
      "Train on 8177 samples, validate on 2045 samples\n",
      "Epoch 1/10\n",
      "8177/8177 [==============================] - 147s 18ms/step - loss: 5.5314 - acc: 0.0176 - val_loss: 4.5878 - val_acc: 0.0318\n",
      "Epoch 2/10\n",
      "8177/8177 [==============================] - 137s 17ms/step - loss: 4.1446 - acc: 0.0894 - val_loss: 4.3859 - val_acc: 0.0533\n",
      "Epoch 3/10\n",
      "8177/8177 [==============================] - 136s 17ms/step - loss: 3.2385 - acc: 0.2390 - val_loss: 4.6190 - val_acc: 0.0641\n",
      "Epoch 4/10\n",
      "8177/8177 [==============================] - 137s 17ms/step - loss: 2.0033 - acc: 0.5052 - val_loss: 5.1369 - val_acc: 0.0675\n",
      "Epoch 5/10\n",
      "8177/8177 [==============================] - 137s 17ms/step - loss: 0.8885 - acc: 0.7895 - val_loss: 6.1190 - val_acc: 0.0626\n",
      "Epoch 6/10\n",
      "8177/8177 [==============================] - 122s 15ms/step - loss: 0.3264 - acc: 0.9267 - val_loss: 6.1116 - val_acc: 0.0914\n",
      "Epoch 7/10\n",
      "8177/8177 [==============================] - 119s 14ms/step - loss: 0.1618 - acc: 0.9634 - val_loss: 6.9659 - val_acc: 0.0709\n",
      "Epoch 8/10\n",
      "8177/8177 [==============================] - 118s 14ms/step - loss: 0.1073 - acc: 0.9774 - val_loss: 6.6242 - val_acc: 0.0914\n",
      "Epoch 9/10\n",
      "8177/8177 [==============================] - 119s 15ms/step - loss: 0.0865 - acc: 0.9814 - val_loss: 7.0751 - val_acc: 0.0861\n",
      "Epoch 10/10\n",
      "8177/8177 [==============================] - 118s 14ms/step - loss: 0.0673 - acc: 0.9852 - val_loss: 7.2108 - val_acc: 0.0870\n"
     ]
    },
    {
     "data": {
      "text/plain": [
       "<keras.callbacks.History at 0x2280b98b518>"
      ]
     },
     "execution_count": 13,
     "metadata": {},
     "output_type": "execute_result"
    }
   ],
   "source": [
    "# Start Fine-tuning\n",
    "model.fit(x_train, y_train, batch_size=batch_size, epochs=epochs, shuffle=True, verbose=1, validation_data=(x_test, y_test))"
   ]
  },
  {
   "cell_type": "code",
   "execution_count": null,
   "metadata": {
    "collapsed": true
   },
   "outputs": [],
   "source": []
  },
  {
   "cell_type": "markdown",
   "metadata": {},
   "source": [
    "> **Note:** simple model training gave me a hint on that mb I should leave the model based on pretrained NN training until the training accuracy is big because it eventually gonna get bigger (most probably considering that there are non-trainable layers) so that we can train it until training accuracy stops increasing on each 10 epochs"
   ]
  },
  {
   "cell_type": "markdown",
   "metadata": {
    "collapsed": true
   },
   "source": [
    "> **Note:** Results after trying this idea on the model with 8 fixed layers trained on 50 epochs turned out to train really slow. These results can be found in __pretrained_model_vgg16_without_several_last_layers.ipynb__. Teacher gave an advise that data augmentation can significantly increase the accuracy."
   ]
  },
  {
   "cell_type": "code",
   "execution_count": null,
   "metadata": {
    "collapsed": true
   },
   "outputs": [],
   "source": []
  }
 ],
 "metadata": {
  "kernelspec": {
   "display_name": "Python [default]",
   "language": "python",
   "name": "python3"
  },
  "language_info": {
   "codemirror_mode": {
    "name": "ipython",
    "version": 3
   },
   "file_extension": ".py",
   "mimetype": "text/x-python",
   "name": "python",
   "nbconvert_exporter": "python",
   "pygments_lexer": "ipython3",
   "version": "3.5.2"
  }
 },
 "nbformat": 4,
 "nbformat_minor": 2
}
