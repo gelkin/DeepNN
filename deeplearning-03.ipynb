{
 "cells": [
  {
   "cell_type": "markdown",
   "metadata": {},
   "source": [
    "# MNIST with convolutional networks"
   ]
  },
  {
   "cell_type": "markdown",
   "metadata": {},
   "source": [
    "## Reading the data"
   ]
  },
  {
   "cell_type": "code",
   "execution_count": 8,
   "metadata": {},
   "outputs": [],
   "source": [
    "import numpy as np,tensorflow as tf\n",
    "\n",
    "import matplotlib as mpl\n",
    "import matplotlib.pyplot as plt\n",
    "import seaborn as sns\n",
    "sns.set_style(\"whitegrid\")\n",
    "sns.set_palette(\"colorblind\")\n",
    "palette = sns.color_palette()\n",
    "figsize = (10,10)\n",
    "legend_fontsize = 16"
   ]
  },
  {
   "cell_type": "code",
   "execution_count": 4,
   "metadata": {
    "scrolled": true
   },
   "outputs": [
    {
     "name": "stdout",
     "output_type": "stream",
     "text": [
      "Successfully downloaded train-images-idx3-ubyte.gz 9912422 bytes.\n",
      "Extracting MNIST_data/train-images-idx3-ubyte.gz\n",
      "Successfully downloaded train-labels-idx1-ubyte.gz 28881 bytes.\n",
      "Extracting MNIST_data/train-labels-idx1-ubyte.gz\n",
      "Successfully downloaded t10k-images-idx3-ubyte.gz 1648877 bytes.\n",
      "Extracting MNIST_data/t10k-images-idx3-ubyte.gz\n",
      "Successfully downloaded t10k-labels-idx1-ubyte.gz 4542 bytes.\n",
      "Extracting MNIST_data/t10k-labels-idx1-ubyte.gz\n"
     ]
    }
   ],
   "source": [
    "from tensorflow.examples.tutorials.mnist import input_data\n",
    "mnist = input_data.read_data_sets(\"MNIST_data/\", one_hot=True)"
   ]
  },
  {
   "cell_type": "markdown",
   "metadata": {},
   "source": [
    "## Convolutions in TensorFlow"
   ]
  },
  {
   "cell_type": "code",
   "execution_count": 5,
   "metadata": {},
   "outputs": [],
   "source": [
    "x = tf.placeholder(tf.float32, [None, 784]) \n",
    "y = tf.placeholder(tf.float32, [None, 10])\n",
    "keep_probability = tf.placeholder(tf.float32)\n",
    "\n",
    "x_image = tf.reshape(x, [-1,28,28,1])\n",
    "\n",
    "W_conv_0 = tf.Variable(tf.truncated_normal([5, 5, 1, 32], stddev=0.1))\n",
    "b_conv_0 = tf.Variable(tf.constant(0.1, shape=[32]))\n",
    "\n",
    "conv_0 = tf.nn.conv2d(x_image, W_conv_0, strides=[1, 1, 1, 1], padding='SAME') + b_conv_0\n",
    "\n",
    "h_conv_0 = tf.nn.relu(conv_0)\n",
    "h_pool_0 = tf.nn.max_pool(h_conv_0, ksize=[1, 2, 2, 1], strides=[1, 2, 2, 1], padding='SAME')\n",
    "h_pool_1_flat = tf.reshape(h_pool_0, [-1, 14*14*32])\n",
    "\n",
    "W_fc_1 = tf.Variable(tf.truncated_normal([14*14*32, 10], stddev=0.1))\n",
    "b_fc_1 = tf.Variable(tf.constant(0.1, shape=[10]))\n",
    "\n",
    "logit_conv = tf.matmul(h_pool_1_flat, W_fc_1) + b_fc_1\n",
    "y_conv = tf.nn.softmax(logit_conv)"
   ]
  },
  {
   "cell_type": "code",
   "execution_count": 6,
   "metadata": {},
   "outputs": [],
   "source": [
    "correct_prediction = tf.equal(tf.argmax(y_conv, 1), tf.argmax(y, 1))\n",
    "accuracy = tf.reduce_mean(tf.cast(correct_prediction, tf.float32))\n",
    "\n",
    "l2 = tf.contrib.layers.l2_regularizer(0.1)\n",
    "cross_entropy = tf.reduce_mean(tf.nn.softmax_cross_entropy_with_logits(logits=logit_conv, labels=y)) + \\\n",
    "                    l2(W_conv_0) #+ l2(W_conv_1)# + l1(W_conv_0) + l1(W_conv_1) + l1(W_conv_2)\n",
    "\n",
    "train_step = tf.train.AdamOptimizer(0.0001).minimize(cross_entropy)"
   ]
  },
  {
   "cell_type": "code",
   "execution_count": 7,
   "metadata": {},
   "outputs": [],
   "source": [
    "sess = tf.Session()\n",
    "sess.run(tf.global_variables_initializer())"
   ]
  },
  {
   "cell_type": "code",
   "execution_count": 9,
   "metadata": {},
   "outputs": [
    {
     "name": "stdout",
     "output_type": "stream",
     "text": [
      "Accuracy 0: 0.109375\n",
      "Accuracy 50: 0.28125\n",
      "Accuracy 100: 0.578125\n",
      "Accuracy 150: 0.609375\n",
      "Accuracy 200: 0.75\n",
      "Accuracy 250: 0.765625\n",
      "Accuracy 300: 0.789063\n",
      "Accuracy 350: 0.835938\n",
      "Accuracy 400: 0.84375\n",
      "Accuracy 450: 0.820313\n",
      "Accuracy 500: 0.84375\n",
      "Accuracy 550: 0.789063\n",
      "Accuracy 600: 0.875\n",
      "Accuracy 650: 0.867188\n",
      "Accuracy 700: 0.84375\n",
      "Accuracy 750: 0.898438\n",
      "Accuracy 800: 0.875\n",
      "Accuracy 850: 0.914063\n",
      "Accuracy 900: 0.867188\n",
      "Accuracy 950: 0.890625\n",
      "Accuracy 1000: 0.875\n",
      "[1000]\ttrain accuracy\ttest accuracy=0.894100\n",
      "Accuracy 1050: 0.875\n",
      "Accuracy 1100: 0.945313\n",
      "Accuracy 1150: 0.90625\n",
      "Accuracy 1200: 0.882813\n",
      "Accuracy 1250: 0.9375\n",
      "Accuracy 1300: 0.914063\n",
      "Accuracy 1350: 0.914063\n",
      "Accuracy 1400: 0.929688\n",
      "Accuracy 1450: 0.898438\n",
      "Accuracy 1500: 0.921875\n",
      "Accuracy 1550: 0.945313\n",
      "Accuracy 1600: 0.890625\n",
      "Accuracy 1650: 0.890625\n",
      "Accuracy 1700: 0.914063\n",
      "Accuracy 1750: 0.9375\n",
      "Accuracy 1800: 0.914063\n",
      "Accuracy 1850: 0.898438\n",
      "Accuracy 1900: 0.921875\n",
      "Accuracy 1950: 0.890625\n",
      "Accuracy 2000: 0.914063\n",
      "[2000]\ttrain accuracy\ttest accuracy=0.912900\n"
     ]
    }
   ],
   "source": [
    "for i in range(2001):\n",
    "    batch_xs, batch_ys = mnist.train.next_batch(64)\n",
    "    sess.run(train_step, feed_dict={x: batch_xs, y: batch_ys, keep_probability: 0.5})\n",
    "    if i % 50 == 0:\n",
    "        test_xs, test_ys = mnist.test.next_batch(128)\n",
    "        acc = sess.run(accuracy, feed_dict={x: test_xs, y: test_ys, keep_probability: 1.})\n",
    "        print(\"Accuracy %s: %s\" % (i, acc))\n",
    "    if i > 0 and i % 1000 == 0:\n",
    "        print(\"[%d]\\ttrain accuracy\\ttest accuracy=%.6f\" % (i,\n",
    "#             sess.run(accuracy, feed_dict={x: mnist.train.images, y: mnist.train.labels}),\n",
    "            sess.run(accuracy, feed_dict={x: mnist.test.images, y: mnist.test.labels})\n",
    "        ))"
   ]
  },
  {
   "cell_type": "markdown",
   "metadata": {},
   "source": [
    "## Two-layer convolutional network"
   ]
  },
  {
   "cell_type": "code",
   "execution_count": 10,
   "metadata": {},
   "outputs": [],
   "source": [
    "x = tf.placeholder(tf.float32, [None, 784]) \n",
    "y = tf.placeholder(tf.float32, [None, 10])\n",
    "keep_probability = tf.placeholder(tf.float32)\n",
    "\n",
    "x_image = tf.reshape(x, [-1,28,28,1])\n",
    "\n",
    "W_conv_0 = tf.Variable(tf.truncated_normal([5, 5, 1, 32], stddev=0.1))\n",
    "b_conv_0 = tf.Variable(tf.constant(0.1, shape=[32]))\n",
    "\n",
    "conv_0 = tf.nn.conv2d(x_image, W_conv_0, strides=[1, 1, 1, 1], padding='SAME') + b_conv_0\n",
    "\n",
    "h_conv_0 = tf.nn.relu(conv_0)\n",
    "h_pool_0 = tf.nn.max_pool(h_conv_0, ksize=[1, 2, 2, 1], strides=[1, 2, 2, 1], padding='SAME')\n",
    "\n",
    "W_conv_1 = tf.Variable(tf.truncated_normal([5, 5, 32, 64], stddev=0.1))\n",
    "b_conv_1 = tf.Variable(tf.constant(0.1, shape=[64]))\n",
    "\n",
    "conv_1 = tf.nn.conv2d(h_pool_0, W_conv_1, strides=[1, 1, 1, 1], padding='SAME') + b_conv_1\n",
    "\n",
    "h_conv_1 = tf.nn.relu(conv_1)\n",
    "h_pool_1 = tf.nn.max_pool(h_conv_1, ksize=[1, 2, 2, 1], strides=[1, 2, 2, 1], padding='SAME')\n",
    "h_pool_1_flat = tf.reshape(h_pool_1, [-1, 7*7*64])\n",
    "\n",
    "W_fc_2 = tf.Variable(tf.truncated_normal([7*7*64, 10], stddev=0.1))\n",
    "b_fc_2 = tf.Variable(tf.constant(0.1, shape=[10]))\n",
    "\n",
    "logit_conv = tf.matmul(h_pool_1_flat, W_fc_2) + b_fc_2\n",
    "y_conv = tf.nn.softmax(logit_conv)"
   ]
  },
  {
   "cell_type": "code",
   "execution_count": 11,
   "metadata": {},
   "outputs": [],
   "source": [
    "correct_prediction = tf.equal(tf.argmax(y_conv, 1), tf.argmax(y, 1))\n",
    "accuracy = tf.reduce_mean(tf.cast(correct_prediction, tf.float32))\n",
    "\n",
    "l2 = tf.contrib.layers.l2_regularizer(0.1)\n",
    "cross_entropy = tf.reduce_mean(tf.nn.softmax_cross_entropy_with_logits(logits=logit_conv, labels=y))\n",
    "#+ \\\n",
    " #                   l2(W_conv_0) #+ l2(W_conv_1)# + l1(W_conv_0) + l1(W_conv_1) + l1(W_conv_2)\n",
    "\n",
    "train_step = tf.train.AdamOptimizer().minimize(cross_entropy)"
   ]
  },
  {
   "cell_type": "code",
   "execution_count": 13,
   "metadata": {},
   "outputs": [],
   "source": [
    "sess = tf.Session()\n",
    "sess.run(tf.global_variables_initializer())"
   ]
  },
  {
   "cell_type": "code",
   "execution_count": 14,
   "metadata": {},
   "outputs": [
    {
     "name": "stdout",
     "output_type": "stream",
     "text": [
      "Accuracy 0: 0.15625\n",
      "Accuracy 50: 0.890625\n",
      "Accuracy 100: 0.914063\n",
      "Accuracy 150: 0.9375\n",
      "Accuracy 200: 0.9375\n",
      "Accuracy 250: 0.945313\n",
      "Accuracy 300: 0.96875\n",
      "Accuracy 350: 0.953125\n",
      "Accuracy 400: 0.976563\n",
      "Accuracy 450: 0.953125\n",
      "Accuracy 500: 0.96875\n",
      "Accuracy 550: 0.921875\n",
      "Accuracy 600: 0.992188\n",
      "Accuracy 650: 0.976563\n",
      "Accuracy 700: 0.96875\n",
      "Accuracy 750: 0.96875\n",
      "Accuracy 800: 0.96875\n",
      "Accuracy 850: 0.976563\n",
      "Accuracy 900: 0.96875\n",
      "Accuracy 950: 0.984375\n",
      "Accuracy 1000: 0.976563\n",
      "[1000]\ttest accuracy=0.978200\n",
      "Accuracy 1050: 0.976563\n",
      "Accuracy 1100: 0.984375\n",
      "Accuracy 1150: 0.984375\n",
      "Accuracy 1200: 0.96875\n",
      "Accuracy 1250: 0.96875\n",
      "Accuracy 1300: 0.992188\n",
      "Accuracy 1350: 0.992188\n",
      "Accuracy 1400: 0.984375\n",
      "Accuracy 1450: 0.992188\n",
      "Accuracy 1500: 0.992188\n",
      "Accuracy 1550: 0.953125\n",
      "Accuracy 1600: 1.0\n",
      "Accuracy 1650: 0.992188\n",
      "Accuracy 1700: 0.984375\n",
      "Accuracy 1750: 0.992188\n",
      "Accuracy 1800: 0.992188\n",
      "Accuracy 1850: 1.0\n",
      "Accuracy 1900: 0.992188\n",
      "Accuracy 1950: 0.984375\n",
      "Accuracy 2000: 0.984375\n",
      "[2000]\ttest accuracy=0.987500\n"
     ]
    }
   ],
   "source": [
    "for i in range(2001):\n",
    "    batch_xs, batch_ys = mnist.train.next_batch(64)\n",
    "    sess.run(train_step, feed_dict={x: batch_xs, y: batch_ys, keep_probability: 0.5})\n",
    "    if i % 50 == 0:\n",
    "        test_xs, test_ys = mnist.test.next_batch(128)\n",
    "        acc = sess.run(accuracy, feed_dict={x: test_xs, y: test_ys, keep_probability: 1.})\n",
    "        print(\"Accuracy %s: %s\" % (i, acc))\n",
    "    if i > 0 and i % 1000 == 0:\n",
    "        print(\"[%d]\\ttest accuracy=%.6f\" % (i,\n",
    "#             sess.run(accuracy, feed_dict={x: mnist.train.images, y: mnist.train.labels}),\n",
    "            sess.run(accuracy, feed_dict={x: mnist.test.images, y: mnist.test.labels})\n",
    "        ))"
   ]
  },
  {
   "cell_type": "code",
   "execution_count": null,
   "metadata": {
    "collapsed": true
   },
   "outputs": [],
   "source": []
  }
 ],
 "metadata": {
  "kernelspec": {
   "display_name": "Python 3",
   "language": "python",
   "name": "python3"
  },
  "language_info": {
   "codemirror_mode": {
    "name": "ipython",
    "version": 3
   },
   "file_extension": ".py",
   "mimetype": "text/x-python",
   "name": "python",
   "nbconvert_exporter": "python",
   "pygments_lexer": "ipython3",
   "version": "3.5.4"
  }
 },
 "nbformat": 4,
 "nbformat_minor": 1
}
