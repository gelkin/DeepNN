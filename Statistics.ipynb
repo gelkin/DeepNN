{
 "cells": [
  {
   "cell_type": "markdown",
   "metadata": {},
   "source": [
    "Statistics"
   ]
  },
  {
   "cell_type": "markdown",
   "metadata": {},
   "source": [
    "### VGG16 without last layers with following additional layers:"
   ]
  },
  {
   "cell_type": "markdown",
   "metadata": {},
   "source": [
    "#### creating a mlp model\n",
    "from keras.layers import Dense, Activation\n",
    "model=Sequential()\n",
    "\n",
    "model.add(Dense(2000, input_dim=25088, activation='relu',kernel_initializer='uniform'))\n",
    "keras.layers.core.Dropout(0.3, noise_shape=None, seed=None)\n",
    "\n",
    "model.add(Dense(1000,input_dim=2000,activation='sigmoid'))\n",
    "keras.layers.core.Dropout(0.4, noise_shape=None, seed=None)\n",
    "\n",
    "model.add(Dense(500,input_dim=1000,activation='sigmoid'))\n",
    "keras.layers.core.Dropout(0.2, noise_shape=None, seed=None)\n",
    "\n",
    "model.add(Dense(units=120))\n",
    "model.add(Activation('softmax'))\n",
    "\n",
    "model.compile(loss='categorical_crossentropy', optimizer=\"adam\", metrics=['accuracy'])"
   ]
  },
  {
   "cell_type": "markdown",
   "metadata": {},
   "source": [
    "#### fitting the model\n",
    "model.fit(X_train, Y_train, epochs=20, batch_size=128,validation_data=(X_valid,Y_valid))"
   ]
  },
  {
   "cell_type": "markdown",
   "metadata": {},
   "source": [
    "Best result after 60 epochs: acc = 0.4\n",
    "See below:"
   ]
  },
  {
   "cell_type": "code",
   "execution_count": 150,
   "metadata": {},
   "outputs": [
    {
     "name": "stdout",
     "output_type": "stream",
     "text": [
      "Train on 6540 samples, validate on 1635 samples\n",
      "Epoch 1/20\n",
      "6540/6540 [==============================] - 5s 772us/step - loss: 1.7114 - acc: 0.4839 - val_loss: 2.2420 - val_acc: 0.3780\n",
      "Epoch 2/20\n",
      "6540/6540 [==============================] - 5s 763us/step - loss: 1.6811 - acc: 0.4847 - val_loss: 2.3007 - val_acc: 0.3755\n",
      "Epoch 3/20\n",
      "6540/6540 [==============================] - 5s 767us/step - loss: 1.6432 - acc: 0.4940 - val_loss: 2.2949 - val_acc: 0.3774\n",
      "Epoch 4/20\n",
      "6540/6540 [==============================] - 5s 770us/step - loss: 1.6492 - acc: 0.5006 - val_loss: 2.2707 - val_acc: 0.3749\n",
      "Epoch 5/20\n",
      "6540/6540 [==============================] - 5s 766us/step - loss: 1.6640 - acc: 0.4950 - val_loss: 2.3192 - val_acc: 0.3755\n",
      "Epoch 6/20\n",
      "6540/6540 [==============================] - 5s 771us/step - loss: 1.6912 - acc: 0.4809 - val_loss: 2.2648 - val_acc: 0.3780\n",
      "Epoch 7/20\n",
      "6540/6540 [==============================] - 5s 769us/step - loss: 1.6327 - acc: 0.5008 - val_loss: 2.3236 - val_acc: 0.3688\n",
      "Epoch 8/20\n",
      "6540/6540 [==============================] - 5s 774us/step - loss: 1.6202 - acc: 0.5112 - val_loss: 2.2873 - val_acc: 0.3872\n",
      "Epoch 9/20\n",
      "6540/6540 [==============================] - 5s 774us/step - loss: 1.6149 - acc: 0.5102 - val_loss: 2.3100 - val_acc: 0.3823\n",
      "Epoch 10/20\n",
      "6540/6540 [==============================] - 5s 773us/step - loss: 1.5943 - acc: 0.5003 - val_loss: 2.2557 - val_acc: 0.4116\n",
      "Epoch 11/20\n",
      "6540/6540 [==============================] - 5s 770us/step - loss: 1.6132 - acc: 0.5098 - val_loss: 2.3249 - val_acc: 0.3725\n",
      "Epoch 12/20\n",
      "6540/6540 [==============================] - 5s 776us/step - loss: 1.6189 - acc: 0.5073 - val_loss: 2.3197 - val_acc: 0.3835\n",
      "Epoch 13/20\n",
      "6540/6540 [==============================] - 5s 768us/step - loss: 1.6544 - acc: 0.4899 - val_loss: 2.3770 - val_acc: 0.3486\n",
      "Epoch 14/20\n",
      "6540/6540 [==============================] - 5s 772us/step - loss: 1.6283 - acc: 0.5043 - val_loss: 2.2897 - val_acc: 0.3878\n",
      "Epoch 15/20\n",
      "6540/6540 [==============================] - 5s 774us/step - loss: 1.6014 - acc: 0.5196 - val_loss: 2.2759 - val_acc: 0.3878\n",
      "Epoch 16/20\n",
      "6540/6540 [==============================] - 5s 773us/step - loss: 1.5913 - acc: 0.5209 - val_loss: 2.2682 - val_acc: 0.3939\n",
      "Epoch 17/20\n",
      "6540/6540 [==============================] - 5s 775us/step - loss: 1.5633 - acc: 0.5194 - val_loss: 2.2792 - val_acc: 0.3957\n",
      "Epoch 18/20\n",
      "6540/6540 [==============================] - 5s 773us/step - loss: 1.5855 - acc: 0.5113 - val_loss: 2.2503 - val_acc: 0.3927\n",
      "Epoch 19/20\n",
      "6540/6540 [==============================] - 5s 769us/step - loss: 1.5954 - acc: 0.5145 - val_loss: 2.2975 - val_acc: 0.3841\n",
      "Epoch 20/20\n",
      "6540/6540 [==============================] - 5s 772us/step - loss: 1.5838 - acc: 0.5193 - val_loss: 2.2633 - val_acc: 0.3829\n"
     ]
    },
    {
     "data": {
      "text/plain": [
       "<keras.callbacks.History at 0x2b88cb40f28>"
      ]
     },
     "execution_count": 150,
     "metadata": {},
     "output_type": "execute_result"
    }
   ],
   "source": [
    "# fitting the model\n",
    "model.fit(X_train, Y_train, epochs=20, batch_size=128,validation_data=(X_valid,Y_valid))"
   ]
  },
  {
   "cell_type": "markdown",
   "metadata": {},
   "source": []
  },
  {
   "cell_type": "code",
   "execution_count": null,
   "metadata": {},
   "outputs": [],
   "source": []
  }
 ],
 "metadata": {
  "kernelspec": {
   "display_name": "Python 3",
   "language": "python",
   "name": "python3"
  },
  "language_info": {
   "codemirror_mode": {
    "name": "ipython",
    "version": 3
   },
   "file_extension": ".py",
   "mimetype": "text/x-python",
   "name": "python",
   "nbconvert_exporter": "python",
   "pygments_lexer": "ipython3",
   "version": "3.5.4"
  }
 },
 "nbformat": 4,
 "nbformat_minor": 2
}
